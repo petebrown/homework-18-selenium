{
 "cells": [
  {
   "cell_type": "markdown",
   "metadata": {},
   "source": [
    "## Logging on\n",
    "\n",
    "Use Selenium to visit https://webapps1.chicago.gov/buildingrecords/ and accept the agreement.\n",
    "\n",
    "> Think about when you use `.find_element...` and when you use `.find_elementSSS...`"
   ]
  },
  {
   "cell_type": "code",
   "execution_count": 64,
   "metadata": {},
   "outputs": [
    {
     "name": "stdout",
     "output_type": "stream",
     "text": [
      "\n"
     ]
    }
   ],
   "source": [
    "from selenium import webdriver\n",
    "from selenium.webdriver.common.by import By\n",
    "from selenium.webdriver.support.ui import WebDriverWait\n",
    "from selenium.webdriver.support import expected_conditions as EC\n",
    "from selenium.webdriver.support.ui import Select\n",
    "from selenium.webdriver.chrome.service import Service as BraveService\n",
    "\n",
    "from webdriver_manager.core.utils import ChromeType\n",
    "from webdriver_manager.chrome import ChromeDriverManager\n",
    "\n",
    "options = webdriver.ChromeOptions()\n",
    "options.binary_location = \"/Applications/Brave Browser.app/Contents/MacOS/Brave Browser\"\n",
    "\n",
    "driver = webdriver.Chrome(options=options, service=BraveService(ChromeDriverManager(chrome_type=ChromeType.BRAVE).install()))"
   ]
  },
  {
   "cell_type": "code",
   "execution_count": 65,
   "metadata": {},
   "outputs": [],
   "source": [
    "import pandas as pd"
   ]
  },
  {
   "cell_type": "code",
   "execution_count": 66,
   "metadata": {},
   "outputs": [],
   "source": [
    "driver.get('https://webapps1.chicago.gov/buildingrecords/')"
   ]
  },
  {
   "cell_type": "code",
   "execution_count": 67,
   "metadata": {},
   "outputs": [],
   "source": [
    "# Accept agreement\n",
    "\n",
    "driver.find_element(By.ID, \"rbnAgreement1\").click()"
   ]
  },
  {
   "cell_type": "code",
   "execution_count": 68,
   "metadata": {},
   "outputs": [],
   "source": [
    "# Click submit on agreement\n",
    "\n",
    "driver.find_element(By.ID, \"submit\").click()"
   ]
  },
  {
   "cell_type": "markdown",
   "metadata": {},
   "source": [
    "## Searching\n",
    "\n",
    "Search for **400 E 41ST ST**."
   ]
  },
  {
   "cell_type": "code",
   "execution_count": 69,
   "metadata": {},
   "outputs": [],
   "source": [
    "# Find the building address textbox and enter address\n",
    "\n",
    "driver.find_element(By.ID, \"fullAddress\").send_keys(\"400 E 41ST ST.\")"
   ]
  },
  {
   "cell_type": "code",
   "execution_count": 70,
   "metadata": {},
   "outputs": [],
   "source": [
    "# Click submit button\n",
    "\n",
    "driver.find_element(By.ID, \"submit\").click()"
   ]
  },
  {
   "cell_type": "markdown",
   "metadata": {},
   "source": [
    "## Saving tables with pandas\n",
    "\n",
    "Use pandas to save a CSV of all **permits** to `Permits - 400 E 41ST ST.csv`. Note that there are **different sections of the page**, not just one long permits table.\n",
    "\n",
    "> - *Tip: When using `.read_html`, try using `flavor='lxml'` and comparing the results to `flavor='html5lib'`. Which works better?*\n",
    "> - *Tip: You might need to install `html5lib` using `pip`. If so, you'll need to restart the notebook using **Kernel > Restart** before it will work.*"
   ]
  },
  {
   "cell_type": "code",
   "execution_count": 71,
   "metadata": {},
   "outputs": [
    {
     "data": {
      "text/html": [
       "<div>\n",
       "<style scoped>\n",
       "    .dataframe tbody tr th:only-of-type {\n",
       "        vertical-align: middle;\n",
       "    }\n",
       "\n",
       "    .dataframe tbody tr th {\n",
       "        vertical-align: top;\n",
       "    }\n",
       "\n",
       "    .dataframe thead th {\n",
       "        text-align: right;\n",
       "    }\n",
       "</style>\n",
       "<table border=\"1\" class=\"dataframe\">\n",
       "  <thead>\n",
       "    <tr style=\"text-align: right;\">\n",
       "      <th></th>\n",
       "      <th>PERMIT #</th>\n",
       "      <th>DATE ISSUED</th>\n",
       "      <th>DESCRIPTION OF WORK</th>\n",
       "    </tr>\n",
       "  </thead>\n",
       "  <tbody>\n",
       "    <tr>\n",
       "      <th>0</th>\n",
       "      <td>100961712</td>\n",
       "      <td>03/09/2022</td>\n",
       "      <td>2017 Fire Service Upgrade Mandate On Five (5) ...</td>\n",
       "    </tr>\n",
       "    <tr>\n",
       "      <th>1</th>\n",
       "      <td>100845718</td>\n",
       "      <td>10/11/2019</td>\n",
       "      <td>ERECT TWO SCAFFOLDS FROM 10/14/2019 TO 10/14/2...</td>\n",
       "    </tr>\n",
       "    <tr>\n",
       "      <th>2</th>\n",
       "      <td>100778302</td>\n",
       "      <td>08/17/2018</td>\n",
       "      <td>PERMIT EXPIRES ON 10/17/2018 Erection Starts: ...</td>\n",
       "    </tr>\n",
       "    <tr>\n",
       "      <th>3</th>\n",
       "      <td>100721255</td>\n",
       "      <td>08/24/2017</td>\n",
       "      <td>PERMIT EXPIRES ON 10/24/2017 ERECTION STARTS: ...</td>\n",
       "    </tr>\n",
       "    <tr>\n",
       "      <th>4</th>\n",
       "      <td>100693399</td>\n",
       "      <td>03/03/2017</td>\n",
       "      <td>INSTALLATION OF LOW VOLTAGE BURGLAR ALARM INTE...</td>\n",
       "    </tr>\n",
       "  </tbody>\n",
       "</table>\n",
       "</div>"
      ],
      "text/plain": [
       "    PERMIT # DATE ISSUED                                DESCRIPTION OF WORK\n",
       "0  100961712  03/09/2022  2017 Fire Service Upgrade Mandate On Five (5) ...\n",
       "1  100845718  10/11/2019  ERECT TWO SCAFFOLDS FROM 10/14/2019 TO 10/14/2...\n",
       "2  100778302  08/17/2018  PERMIT EXPIRES ON 10/17/2018 Erection Starts: ...\n",
       "3  100721255  08/24/2017  PERMIT EXPIRES ON 10/24/2017 ERECTION STARTS: ...\n",
       "4  100693399  03/03/2017  INSTALLATION OF LOW VOLTAGE BURGLAR ALARM INTE..."
      ]
     },
     "execution_count": 71,
     "metadata": {},
     "output_type": "execute_result"
    }
   ],
   "source": [
    "df = pd.read_html(driver.page_source, flavor='html5lib')[0]\n",
    "df.head()"
   ]
  },
  {
   "cell_type": "code",
   "execution_count": 72,
   "metadata": {},
   "outputs": [],
   "source": [
    "df.to_csv('Permits - 400 E 41ST ST.csv', index=False)"
   ]
  },
  {
   "cell_type": "markdown",
   "metadata": {},
   "source": [
    "## Saving tables the long way\n",
    "\n",
    "Save a CSV of all DOB inspections to `Inspections - 400 E 41ST ST.csv`.\n",
    "\n",
    "This is more complicated than the last one becuse **we also need to save the URL to the inspection** (see how the inspection number is a link?). As a result, you won't be able to use pandas! Instead, you'll need to use a loop and create a list of dictionaries.\n",
    "\n",
    "You can use Selenium or you can feed the source to BeautifulSoup. You should have approximately 160 rows.\n",
    "\n",
    "You'll probably need to find the table first, then the rows inside, then the cells inside of each row. You'll probably use lots of list indexing. I might recommend XPath for finding the table.\n",
    "\n",
    "*Tip: If you get a \"list index out of range\" error, it's probably due to an issue involving `thead` vs `tbody` elements. What are they? What are they for? What's in them? There are a few ways to troubleshoot it.*"
   ]
  },
  {
   "cell_type": "code",
   "execution_count": 73,
   "metadata": {},
   "outputs": [],
   "source": [
    "inspections = driver.find_element(By.XPATH, '//*[@id=\"resultstable_inspections\"]')"
   ]
  },
  {
   "cell_type": "code",
   "execution_count": 74,
   "metadata": {},
   "outputs": [],
   "source": [
    "rows = inspections.find_elements(By.CSS_SELECTOR, 'tbody tr')"
   ]
  },
  {
   "cell_type": "code",
   "execution_count": 86,
   "metadata": {},
   "outputs": [],
   "source": [
    "inspection_list = []\n",
    "\n",
    "for row in rows:\n",
    "    columns = row.find_elements(By.TAG_NAME, 'td')\n",
    "    \n",
    "    number = columns[0].text\n",
    "    url = columns[0].find_element(By.TAG_NAME, 'a').get_attribute('href')\n",
    "    date = columns[1].text\n",
    "    status = columns[2].text\n",
    "    description = columns[3].text\n",
    "    \n",
    "    data = {\n",
    "        'number': number,\n",
    "        'url': url,\n",
    "        'date': date,\n",
    "        'status': status,\n",
    "        'description': description\n",
    "    }\n",
    "    \n",
    "    inspection_list.append(data)\n",
    "    \n",
    "df = pd.DataFrame(inspection_list)\n",
    "df.head()\n",
    "\n",
    "df.to_csv('Inspections - 400 E 41ST ST.csv', index=False)"
   ]
  },
  {
   "cell_type": "markdown",
   "metadata": {},
   "source": [
    "### Bonus preview of Wednesday's content\n",
    "\n",
    "**You prrrrrobably shouldn't do this one unless you want a real challenge.**\n",
    "\n",
    "If you click the inspection number, it'll open up a new window that shows you details of the violations from that visit. Count the number of violations for each visit and save it in a new column called **num_violations**.\n",
    "\n",
    "Save this file as `Inspections - 400 E 41ST ST - with counts.csv`.\n",
    "\n",
    "Since clicking the link opens in a new window, we have to say \"Hey Selenium, pay attention to that new window!\" We do that with `driver.switch_to.window(driver.window_handles[-1])` (each window gets a `window_handle`, and we're just asking the driver to switch to the last one.). A rough sketch of what your code will look like is here:\n",
    "\n",
    "```python\n",
    "# Click the link that opens the new window\n",
    "\n",
    "# Switch to the new window/tab\n",
    "driver.switch_to.window(driver.window_handles[-1])\n",
    "\n",
    "# Do your scraping in here\n",
    "\n",
    "# Close the new window/tab\n",
    "driver.close()\n",
    "\n",
    "# Switch back to the original window/tab\n",
    "driver.switch_to.window(driver.window_handles[0])\n",
    "```\n",
    "\n",
    "You'll want to play around with them individually before you try it with the whole set - the ones that pass are very different pages than the ones with violations! There are a few ways to get the number of violations, some easier than others."
   ]
  },
  {
   "cell_type": "code",
   "execution_count": 89,
   "metadata": {},
   "outputs": [
    {
     "data": {
      "text/html": [
       "<div>\n",
       "<style scoped>\n",
       "    .dataframe tbody tr th:only-of-type {\n",
       "        vertical-align: middle;\n",
       "    }\n",
       "\n",
       "    .dataframe tbody tr th {\n",
       "        vertical-align: top;\n",
       "    }\n",
       "\n",
       "    .dataframe thead th {\n",
       "        text-align: right;\n",
       "    }\n",
       "</style>\n",
       "<table border=\"1\" class=\"dataframe\">\n",
       "  <thead>\n",
       "    <tr style=\"text-align: right;\">\n",
       "      <th></th>\n",
       "      <th>number</th>\n",
       "      <th>url</th>\n",
       "      <th>date</th>\n",
       "      <th>status</th>\n",
       "      <th>description</th>\n",
       "      <th>num_violations</th>\n",
       "    </tr>\n",
       "  </thead>\n",
       "  <tbody>\n",
       "    <tr>\n",
       "      <th>0</th>\n",
       "      <td>13821288</td>\n",
       "      <td>https://webapps1.chicago.gov/buildingrecords/i...</td>\n",
       "      <td>05/16/2022</td>\n",
       "      <td>PASSED</td>\n",
       "      <td>PERMIT INSPECTION</td>\n",
       "      <td>0</td>\n",
       "    </tr>\n",
       "    <tr>\n",
       "      <th>1</th>\n",
       "      <td>13813188</td>\n",
       "      <td>https://webapps1.chicago.gov/buildingrecords/i...</td>\n",
       "      <td>05/16/2022</td>\n",
       "      <td>PASSED</td>\n",
       "      <td>ANNUAL INSPECTION</td>\n",
       "      <td>0</td>\n",
       "    </tr>\n",
       "    <tr>\n",
       "      <th>2</th>\n",
       "      <td>13808208</td>\n",
       "      <td>https://webapps1.chicago.gov/buildingrecords/i...</td>\n",
       "      <td>05/13/2022</td>\n",
       "      <td>FAILED</td>\n",
       "      <td>PERMIT INSPECTION</td>\n",
       "      <td>1</td>\n",
       "    </tr>\n",
       "    <tr>\n",
       "      <th>3</th>\n",
       "      <td>13748085</td>\n",
       "      <td>https://webapps1.chicago.gov/buildingrecords/i...</td>\n",
       "      <td>04/25/2022</td>\n",
       "      <td>FAILED</td>\n",
       "      <td>ANNUAL INSPECTION</td>\n",
       "      <td>2</td>\n",
       "    </tr>\n",
       "    <tr>\n",
       "      <th>4</th>\n",
       "      <td>13684797</td>\n",
       "      <td>https://webapps1.chicago.gov/buildingrecords/i...</td>\n",
       "      <td>03/21/2022</td>\n",
       "      <td>FAILED</td>\n",
       "      <td>ANNUAL INSPECTION</td>\n",
       "      <td>2</td>\n",
       "    </tr>\n",
       "  </tbody>\n",
       "</table>\n",
       "</div>"
      ],
      "text/plain": [
       "     number                                                url        date  \\\n",
       "0  13821288  https://webapps1.chicago.gov/buildingrecords/i...  05/16/2022   \n",
       "1  13813188  https://webapps1.chicago.gov/buildingrecords/i...  05/16/2022   \n",
       "2  13808208  https://webapps1.chicago.gov/buildingrecords/i...  05/13/2022   \n",
       "3  13748085  https://webapps1.chicago.gov/buildingrecords/i...  04/25/2022   \n",
       "4  13684797  https://webapps1.chicago.gov/buildingrecords/i...  03/21/2022   \n",
       "\n",
       "   status        description  num_violations  \n",
       "0  PASSED  PERMIT INSPECTION               0  \n",
       "1  PASSED  ANNUAL INSPECTION               0  \n",
       "2  FAILED  PERMIT INSPECTION               1  \n",
       "3  FAILED  ANNUAL INSPECTION               2  \n",
       "4  FAILED  ANNUAL INSPECTION               2  "
      ]
     },
     "execution_count": 89,
     "metadata": {},
     "output_type": "execute_result"
    }
   ],
   "source": [
    "inspection_list = []\n",
    "\n",
    "for row in rows:\n",
    "    columns = row.find_elements(By.TAG_NAME, 'td')\n",
    "    \n",
    "    number = columns[0].text\n",
    "    link = columns[0].find_element(By.TAG_NAME, 'a')\n",
    "    url = columns[0].find_element(By.TAG_NAME, 'a').get_attribute('href')\n",
    "    date = columns[1].text\n",
    "    status = columns[2].text\n",
    "    description = columns[3].text\n",
    "    \n",
    "    # Click the link for violation details\n",
    "    link.click()\n",
    "    # Switch driver to new window\n",
    "    driver.switch_to.window(driver.window_handles[-1])\n",
    "    \n",
    "    # Look for a table\n",
    "    # If found, count the number of violations\n",
    "    # If not, return 0\n",
    "    try:\n",
    "        table = driver.find_element(By.CSS_SELECTOR, '#resultstable')\n",
    "        violations = table.find_elements(By.CSS_SELECTOR, 'tbody tr')\n",
    "        num_violations = len(violations)\n",
    "    except:\n",
    "        num_violations = 0\n",
    "\n",
    "    driver.close()\n",
    "\n",
    "    driver.switch_to.window(driver.window_handles[0])\n",
    "    \n",
    "    data = {\n",
    "        'number': number,\n",
    "        'url': url,\n",
    "        'date': date,\n",
    "        'status': status,\n",
    "        'description': description,\n",
    "        'num_violations': num_violations\n",
    "    }\n",
    "    \n",
    "    inspection_list.append(data)\n",
    "    \n",
    "df = pd.DataFrame(inspection_list)\n",
    "df.to_csv('Inspections - 400 E 41ST ST - with counts.csv', index=False)\n",
    "\n",
    "df.head()"
   ]
  },
  {
   "cell_type": "code",
   "execution_count": null,
   "metadata": {},
   "outputs": [],
   "source": []
  }
 ],
 "metadata": {
  "kernelspec": {
   "display_name": "lede_program",
   "language": "python",
   "name": "lede_program"
  },
  "language_info": {
   "codemirror_mode": {
    "name": "ipython",
    "version": 3
   },
   "file_extension": ".py",
   "mimetype": "text/x-python",
   "name": "python",
   "nbconvert_exporter": "python",
   "pygments_lexer": "ipython3",
   "version": "3.10.3"
  }
 },
 "nbformat": 4,
 "nbformat_minor": 4
}
